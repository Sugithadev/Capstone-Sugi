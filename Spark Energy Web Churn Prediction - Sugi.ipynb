{
 "cells": [
  {
   "cell_type": "code",
   "execution_count": 80,
   "metadata": {},
   "outputs": [],
   "source": [
    "import pandas as pd \n",
    "import numpy as np\n",
    "import matplotlib.pyplot as plt\n",
    "import seaborn as sns \n",
    "import pymysql\n",
    "import csv\n",
    "import pandas_profiling\n",
    "import emoji\n",
    "import pydotplus\n",
    "import pydot\n",
    "import scipy\n",
    "import warnings\n",
    "import matplotlib.pyplot\n",
    "import sys\n",
    "warnings.filterwarnings('ignore') \n",
    "\n",
    "from IPython.display import Image\n",
    "from sqlalchemy import create_engine\n",
    "from math import sqrt \n",
    "from numpy import int64\n",
    "#SK Learn \n",
    "from sklearn.metrics import accuracy_score, classification_report,mean_squared_error,r2_score,mean_absolute_error\n",
    "from sklearn.linear_model import LogisticRegression \n",
    "from sklearn.linear_model import LinearRegression \n",
    "from sklearn.neighbors import KNeighborsClassifier #KNN\n",
    "from sklearn.ensemble import RandomForestClassifier,GradientBoostingClassifier\n",
    "from sklearn.ensemble import RandomForestRegressor\n",
    "from sklearn.svm import SVR\n",
    "from sklearn.tree import DecisionTreeClassifier\n",
    "from sklearn.model_selection import train_test_split\n",
    "from sklearn.model_selection import cross_val_score\n",
    "from sklearn import linear_model\n",
    "from sklearn.datasets import load_digits\n",
    "from sklearn.tree import plot_tree\n",
    "from sklearn.tree import export_text\n",
    "from sklearn import metrics\n",
    "from sklearn import preprocessing\n",
    "from sklearn import svm\n",
    "from sklearn.naive_bayes import GaussianNB\n",
    "from sklearn import model_selection\n",
    "from sklearn.metrics import confusion_matrix,precision_score,recall_score,accuracy_score,precision_recall_curve\n",
    "from sklearn import tree\n",
    "from sklearn.preprocessing import RobustScaler\n",
    "%matplotlib inline"
   ]
  },
  {
   "cell_type": "code",
   "execution_count": 47,
   "metadata": {},
   "outputs": [],
   "source": [
    "#df = pd.ExcelFile('Churn prediction data for web.xlsx')  \n",
    "df = pd.read_excel('Churn prediction data for web (1).xlsx', engine='openpyxl')"
   ]
  },
  {
   "cell_type": "code",
   "execution_count": 48,
   "metadata": {},
   "outputs": [
    {
     "name": "stdout",
     "output_type": "stream",
     "text": [
      "<class 'pandas.core.frame.DataFrame'>\n",
      "RangeIndex: 107514 entries, 0 to 107513\n",
      "Data columns (total 22 columns):\n",
      " #   Column                Non-Null Count   Dtype         \n",
      "---  ------                --------------   -----         \n",
      " 0   UtilityAccountNumber  107514 non-null  object        \n",
      " 1   AccountNumber         107514 non-null  object        \n",
      " 2   PromoCode             4659 non-null    object        \n",
      " 3   AttritionByMonth      97774 non-null   float64       \n",
      " 4   EffectiveDate         103229 non-null  datetime64[ns]\n",
      " 5   TerminationDate       47506 non-null   datetime64[ns]\n",
      " 6   PremiseStatus         107514 non-null  object        \n",
      " 7   PremiseType           107514 non-null  object        \n",
      " 8   ServiceState          107511 non-null  object        \n",
      " 9   ContractType          105740 non-null  object        \n",
      " 10  GreenType             107514 non-null  int64         \n",
      " 11  IsAutoPay             107514 non-null  int64         \n",
      " 12  Commodity             107514 non-null  object        \n",
      " 13  ProductType           105317 non-null  object        \n",
      " 14  ProductTerm           105317 non-null  float64       \n",
      " 15  mastercompany         107514 non-null  object        \n",
      " 16  IsEBill               107514 non-null  int64         \n",
      " 17  Rate                  101328 non-null  float64       \n",
      " 18  AttritionType         41620 non-null   object        \n",
      " 19  SoldDate              107502 non-null  datetime64[ns]\n",
      " 20  activebymonth         107514 non-null  int64         \n",
      " 21  Churn                 107514 non-null  int64         \n",
      "dtypes: datetime64[ns](3), float64(3), int64(5), object(11)\n",
      "memory usage: 18.0+ MB\n"
     ]
    }
   ],
   "source": [
    "df.info()"
   ]
  },
  {
   "cell_type": "code",
   "execution_count": 49,
   "metadata": {},
   "outputs": [
    {
     "data": {
      "text/html": [
       "<div>\n",
       "<style scoped>\n",
       "    .dataframe tbody tr th:only-of-type {\n",
       "        vertical-align: middle;\n",
       "    }\n",
       "\n",
       "    .dataframe tbody tr th {\n",
       "        vertical-align: top;\n",
       "    }\n",
       "\n",
       "    .dataframe thead th {\n",
       "        text-align: right;\n",
       "    }\n",
       "</style>\n",
       "<table border=\"1\" class=\"dataframe\">\n",
       "  <thead>\n",
       "    <tr style=\"text-align: right;\">\n",
       "      <th></th>\n",
       "      <th>UtilityAccountNumber</th>\n",
       "      <th>AccountNumber</th>\n",
       "      <th>PromoCode</th>\n",
       "      <th>AttritionByMonth</th>\n",
       "      <th>EffectiveDate</th>\n",
       "      <th>TerminationDate</th>\n",
       "      <th>PremiseStatus</th>\n",
       "      <th>PremiseType</th>\n",
       "      <th>ServiceState</th>\n",
       "      <th>ContractType</th>\n",
       "      <th>...</th>\n",
       "      <th>Commodity</th>\n",
       "      <th>ProductType</th>\n",
       "      <th>ProductTerm</th>\n",
       "      <th>mastercompany</th>\n",
       "      <th>IsEBill</th>\n",
       "      <th>Rate</th>\n",
       "      <th>AttritionType</th>\n",
       "      <th>SoldDate</th>\n",
       "      <th>activebymonth</th>\n",
       "      <th>Churn</th>\n",
       "    </tr>\n",
       "  </thead>\n",
       "  <tbody>\n",
       "    <tr>\n",
       "      <th>0</th>\n",
       "      <td>035013237595</td>\n",
       "      <td>002752814</td>\n",
       "      <td>NaN</td>\n",
       "      <td>63.0</td>\n",
       "      <td>2015-01-08</td>\n",
       "      <td>2020-04-06</td>\n",
       "      <td>INACTIVE</td>\n",
       "      <td>RESIDENTIAL</td>\n",
       "      <td>ME</td>\n",
       "      <td>RENEWAL</td>\n",
       "      <td>...</td>\n",
       "      <td>ELECTRIC</td>\n",
       "      <td>Fixed</td>\n",
       "      <td>12.0</td>\n",
       "      <td>PROVIDER</td>\n",
       "      <td>0</td>\n",
       "      <td>0.0899</td>\n",
       "      <td>FAILURE TO RENEW</td>\n",
       "      <td>2014-12-08</td>\n",
       "      <td>64</td>\n",
       "      <td>1</td>\n",
       "    </tr>\n",
       "    <tr>\n",
       "      <th>1</th>\n",
       "      <td>2102956001</td>\n",
       "      <td>002789231</td>\n",
       "      <td>NaN</td>\n",
       "      <td>0.0</td>\n",
       "      <td>2015-03-20</td>\n",
       "      <td>NaT</td>\n",
       "      <td>ACTIVE</td>\n",
       "      <td>RESIDENTIAL</td>\n",
       "      <td>NH</td>\n",
       "      <td>RENEWAL</td>\n",
       "      <td>...</td>\n",
       "      <td>ELECTRIC</td>\n",
       "      <td>Fixed</td>\n",
       "      <td>12.0</td>\n",
       "      <td>PROVIDER</td>\n",
       "      <td>0</td>\n",
       "      <td>0.1307</td>\n",
       "      <td>NaN</td>\n",
       "      <td>2015-03-09</td>\n",
       "      <td>71</td>\n",
       "      <td>0</td>\n",
       "    </tr>\n",
       "    <tr>\n",
       "      <th>2</th>\n",
       "      <td>10042539</td>\n",
       "      <td>002750405</td>\n",
       "      <td>NaN</td>\n",
       "      <td>0.0</td>\n",
       "      <td>2012-07-11</td>\n",
       "      <td>NaT</td>\n",
       "      <td>ACTIVE</td>\n",
       "      <td>RESIDENTIAL</td>\n",
       "      <td>ME</td>\n",
       "      <td>RENEWAL</td>\n",
       "      <td>...</td>\n",
       "      <td>ELECTRIC</td>\n",
       "      <td>Fixed</td>\n",
       "      <td>1.0</td>\n",
       "      <td>PROVIDER</td>\n",
       "      <td>0</td>\n",
       "      <td>0.1299</td>\n",
       "      <td>NaN</td>\n",
       "      <td>2013-09-27</td>\n",
       "      <td>113</td>\n",
       "      <td>0</td>\n",
       "    </tr>\n",
       "    <tr>\n",
       "      <th>3</th>\n",
       "      <td>035014215061</td>\n",
       "      <td>002756528</td>\n",
       "      <td>NaN</td>\n",
       "      <td>0.0</td>\n",
       "      <td>2012-04-07</td>\n",
       "      <td>NaT</td>\n",
       "      <td>ACTIVE</td>\n",
       "      <td>RESIDENTIAL</td>\n",
       "      <td>ME</td>\n",
       "      <td>RENEWAL</td>\n",
       "      <td>...</td>\n",
       "      <td>ELECTRIC</td>\n",
       "      <td>Fixed</td>\n",
       "      <td>1.0</td>\n",
       "      <td>PROVIDER</td>\n",
       "      <td>0</td>\n",
       "      <td>0.1030</td>\n",
       "      <td>NaN</td>\n",
       "      <td>2013-09-27</td>\n",
       "      <td>111</td>\n",
       "      <td>0</td>\n",
       "    </tr>\n",
       "    <tr>\n",
       "      <th>4</th>\n",
       "      <td>035016437226</td>\n",
       "      <td>002774599</td>\n",
       "      <td>NaN</td>\n",
       "      <td>85.0</td>\n",
       "      <td>2012-07-07</td>\n",
       "      <td>2019-08-06</td>\n",
       "      <td>INACTIVE</td>\n",
       "      <td>RESIDENTIAL</td>\n",
       "      <td>ME</td>\n",
       "      <td>RENEWAL</td>\n",
       "      <td>...</td>\n",
       "      <td>ELECTRIC</td>\n",
       "      <td>Fixed</td>\n",
       "      <td>1.0</td>\n",
       "      <td>PROVIDER</td>\n",
       "      <td>0</td>\n",
       "      <td>0.1325</td>\n",
       "      <td>FAILURE TO RENEW</td>\n",
       "      <td>2013-09-27</td>\n",
       "      <td>86</td>\n",
       "      <td>1</td>\n",
       "    </tr>\n",
       "  </tbody>\n",
       "</table>\n",
       "<p>5 rows × 22 columns</p>\n",
       "</div>"
      ],
      "text/plain": [
       "  UtilityAccountNumber AccountNumber PromoCode  AttritionByMonth  \\\n",
       "0         035013237595     002752814       NaN              63.0   \n",
       "1           2102956001     002789231       NaN               0.0   \n",
       "2             10042539     002750405       NaN               0.0   \n",
       "3         035014215061     002756528       NaN               0.0   \n",
       "4         035016437226     002774599       NaN              85.0   \n",
       "\n",
       "  EffectiveDate TerminationDate PremiseStatus  PremiseType ServiceState  \\\n",
       "0    2015-01-08      2020-04-06      INACTIVE  RESIDENTIAL           ME   \n",
       "1    2015-03-20             NaT        ACTIVE  RESIDENTIAL           NH   \n",
       "2    2012-07-11             NaT        ACTIVE  RESIDENTIAL           ME   \n",
       "3    2012-04-07             NaT        ACTIVE  RESIDENTIAL           ME   \n",
       "4    2012-07-07      2019-08-06      INACTIVE  RESIDENTIAL           ME   \n",
       "\n",
       "  ContractType  ...  Commodity  ProductType ProductTerm mastercompany  \\\n",
       "0      RENEWAL  ...   ELECTRIC        Fixed        12.0      PROVIDER   \n",
       "1      RENEWAL  ...   ELECTRIC        Fixed        12.0      PROVIDER   \n",
       "2      RENEWAL  ...   ELECTRIC        Fixed         1.0      PROVIDER   \n",
       "3      RENEWAL  ...   ELECTRIC        Fixed         1.0      PROVIDER   \n",
       "4      RENEWAL  ...   ELECTRIC        Fixed         1.0      PROVIDER   \n",
       "\n",
       "   IsEBill    Rate     AttritionType   SoldDate activebymonth Churn  \n",
       "0        0  0.0899  FAILURE TO RENEW 2014-12-08            64     1  \n",
       "1        0  0.1307               NaN 2015-03-09            71     0  \n",
       "2        0  0.1299               NaN 2013-09-27           113     0  \n",
       "3        0  0.1030               NaN 2013-09-27           111     0  \n",
       "4        0  0.1325  FAILURE TO RENEW 2013-09-27            86     1  \n",
       "\n",
       "[5 rows x 22 columns]"
      ]
     },
     "execution_count": 49,
     "metadata": {},
     "output_type": "execute_result"
    }
   ],
   "source": [
    "df.head()"
   ]
  },
  {
   "cell_type": "code",
   "execution_count": 50,
   "metadata": {},
   "outputs": [
    {
     "data": {
      "text/plain": [
       "UtilityAccountNumber             2102956001\n",
       "AccountNumber                     002789231\n",
       "PromoCode                               NaN\n",
       "AttritionByMonth                          0\n",
       "EffectiveDate           2015-03-20 00:00:00\n",
       "TerminationDate                         NaT\n",
       "PremiseStatus                        ACTIVE\n",
       "PremiseType                     RESIDENTIAL\n",
       "ServiceState                             NH\n",
       "ContractType                        RENEWAL\n",
       "GreenType                                 0\n",
       "IsAutoPay                                 0\n",
       "Commodity                          ELECTRIC\n",
       "ProductType                           Fixed\n",
       "ProductTerm                              12\n",
       "mastercompany                      PROVIDER\n",
       "IsEBill                                   0\n",
       "Rate                                 0.1307\n",
       "AttritionType                           NaN\n",
       "SoldDate                2015-03-09 00:00:00\n",
       "activebymonth                            71\n",
       "Churn                                     0\n",
       "Name: 1, dtype: object"
      ]
     },
     "execution_count": 50,
     "metadata": {},
     "output_type": "execute_result"
    }
   ],
   "source": [
    "df.iloc[1]"
   ]
  },
  {
   "cell_type": "code",
   "execution_count": 51,
   "metadata": {},
   "outputs": [
    {
     "name": "stdout",
     "output_type": "stream",
     "text": [
      "UtilityAccountNumber         0\n",
      "AccountNumber                0\n",
      "PromoCode               102855\n",
      "AttritionByMonth          9740\n",
      "EffectiveDate             4285\n",
      "TerminationDate          60008\n",
      "PremiseStatus                0\n",
      "PremiseType                  0\n",
      "ServiceState                 3\n",
      "ContractType              1774\n",
      "GreenType                    0\n",
      "IsAutoPay                    0\n",
      "Commodity                    0\n",
      "ProductType               2197\n",
      "ProductTerm               2197\n",
      "mastercompany                0\n",
      "IsEBill                      0\n",
      "Rate                      6186\n",
      "AttritionType            65894\n",
      "SoldDate                    12\n",
      "activebymonth                0\n",
      "Churn                        0\n",
      "dtype: int64\n"
     ]
    }
   ],
   "source": [
    "#To find if your data set has null \n",
    "print(df.isnull().sum())"
   ]
  },
  {
   "cell_type": "code",
   "execution_count": 52,
   "metadata": {},
   "outputs": [
    {
     "data": {
      "text/plain": [
       "2778"
      ]
     },
     "execution_count": 52,
     "metadata": {},
     "output_type": "execute_result"
    }
   ],
   "source": [
    "df.UtilityAccountNumber.duplicated().sum()"
   ]
  },
  {
   "cell_type": "code",
   "execution_count": 53,
   "metadata": {},
   "outputs": [
    {
     "data": {
      "text/plain": [
       "151"
      ]
     },
     "execution_count": 53,
     "metadata": {},
     "output_type": "execute_result"
    }
   ],
   "source": [
    "df.AccountNumber.duplicated().sum()"
   ]
  },
  {
   "cell_type": "code",
   "execution_count": 54,
   "metadata": {},
   "outputs": [
    {
     "data": {
      "text/plain": [
       "0         False\n",
       "1         False\n",
       "2         False\n",
       "3         False\n",
       "4         False\n",
       "          ...  \n",
       "107509    False\n",
       "107510    False\n",
       "107511    False\n",
       "107512    False\n",
       "107513    False\n",
       "Name: AccountNumber, Length: 107514, dtype: bool"
      ]
     },
     "execution_count": 54,
     "metadata": {},
     "output_type": "execute_result"
    }
   ],
   "source": [
    "df.AccountNumber.duplicated()"
   ]
  },
  {
   "cell_type": "code",
   "execution_count": 55,
   "metadata": {},
   "outputs": [
    {
     "data": {
      "text/plain": [
       "2"
      ]
     },
     "execution_count": 55,
     "metadata": {},
     "output_type": "execute_result"
    }
   ],
   "source": [
    "df.duplicated().sum()"
   ]
  },
  {
   "cell_type": "code",
   "execution_count": 56,
   "metadata": {},
   "outputs": [
    {
     "data": {
      "text/html": [
       "<div>\n",
       "<style scoped>\n",
       "    .dataframe tbody tr th:only-of-type {\n",
       "        vertical-align: middle;\n",
       "    }\n",
       "\n",
       "    .dataframe tbody tr th {\n",
       "        vertical-align: top;\n",
       "    }\n",
       "\n",
       "    .dataframe thead th {\n",
       "        text-align: right;\n",
       "    }\n",
       "</style>\n",
       "<table border=\"1\" class=\"dataframe\">\n",
       "  <thead>\n",
       "    <tr style=\"text-align: right;\">\n",
       "      <th></th>\n",
       "      <th>UtilityAccountNumber</th>\n",
       "      <th>AccountNumber</th>\n",
       "      <th>PromoCode</th>\n",
       "      <th>AttritionByMonth</th>\n",
       "      <th>EffectiveDate</th>\n",
       "      <th>TerminationDate</th>\n",
       "      <th>PremiseStatus</th>\n",
       "      <th>PremiseType</th>\n",
       "      <th>ServiceState</th>\n",
       "      <th>ContractType</th>\n",
       "      <th>...</th>\n",
       "      <th>Commodity</th>\n",
       "      <th>ProductType</th>\n",
       "      <th>ProductTerm</th>\n",
       "      <th>mastercompany</th>\n",
       "      <th>IsEBill</th>\n",
       "      <th>Rate</th>\n",
       "      <th>AttritionType</th>\n",
       "      <th>SoldDate</th>\n",
       "      <th>activebymonth</th>\n",
       "      <th>Churn</th>\n",
       "    </tr>\n",
       "  </thead>\n",
       "  <tbody>\n",
       "    <tr>\n",
       "      <th>95993</th>\n",
       "      <td>10443720002763199</td>\n",
       "      <td>004198974</td>\n",
       "      <td>NaN</td>\n",
       "      <td>NaN</td>\n",
       "      <td>2019-12-23</td>\n",
       "      <td>2019-12-23</td>\n",
       "      <td>ENROLLMENT CANCELLED</td>\n",
       "      <td>RESIDENTIAL</td>\n",
       "      <td>TX</td>\n",
       "      <td>ENROLLMENT</td>\n",
       "      <td>...</td>\n",
       "      <td>ELECTRIC</td>\n",
       "      <td>Fixed</td>\n",
       "      <td>6.0</td>\n",
       "      <td>SPARK</td>\n",
       "      <td>1</td>\n",
       "      <td>0.048</td>\n",
       "      <td>NaN</td>\n",
       "      <td>2019-12-19</td>\n",
       "      <td>6</td>\n",
       "      <td>1</td>\n",
       "    </tr>\n",
       "    <tr>\n",
       "      <th>100064</th>\n",
       "      <td>10443720004556924</td>\n",
       "      <td>004198962</td>\n",
       "      <td>NAVC-KIOSK_104</td>\n",
       "      <td>NaN</td>\n",
       "      <td>2019-12-18</td>\n",
       "      <td>2019-12-18</td>\n",
       "      <td>ENROLLMENT CANCELLED</td>\n",
       "      <td>RESIDENTIAL</td>\n",
       "      <td>TX</td>\n",
       "      <td>ENROLLMENT</td>\n",
       "      <td>...</td>\n",
       "      <td>ELECTRIC</td>\n",
       "      <td>Fixed</td>\n",
       "      <td>36.0</td>\n",
       "      <td>SPARK</td>\n",
       "      <td>0</td>\n",
       "      <td>0.089</td>\n",
       "      <td>NaN</td>\n",
       "      <td>2019-12-18</td>\n",
       "      <td>36</td>\n",
       "      <td>1</td>\n",
       "    </tr>\n",
       "  </tbody>\n",
       "</table>\n",
       "<p>2 rows × 22 columns</p>\n",
       "</div>"
      ],
      "text/plain": [
       "       UtilityAccountNumber AccountNumber       PromoCode  AttritionByMonth  \\\n",
       "95993     10443720002763199     004198974             NaN               NaN   \n",
       "100064    10443720004556924     004198962  NAVC-KIOSK_104               NaN   \n",
       "\n",
       "       EffectiveDate TerminationDate         PremiseStatus  PremiseType  \\\n",
       "95993     2019-12-23      2019-12-23  ENROLLMENT CANCELLED  RESIDENTIAL   \n",
       "100064    2019-12-18      2019-12-18  ENROLLMENT CANCELLED  RESIDENTIAL   \n",
       "\n",
       "       ServiceState ContractType  ...  Commodity  ProductType ProductTerm  \\\n",
       "95993            TX   ENROLLMENT  ...   ELECTRIC        Fixed         6.0   \n",
       "100064           TX   ENROLLMENT  ...   ELECTRIC        Fixed        36.0   \n",
       "\n",
       "       mastercompany  IsEBill   Rate  AttritionType   SoldDate activebymonth  \\\n",
       "95993          SPARK        1  0.048            NaN 2019-12-19             6   \n",
       "100064         SPARK        0  0.089            NaN 2019-12-18            36   \n",
       "\n",
       "       Churn  \n",
       "95993      1  \n",
       "100064     1  \n",
       "\n",
       "[2 rows x 22 columns]"
      ]
     },
     "execution_count": 56,
     "metadata": {},
     "output_type": "execute_result"
    }
   ],
   "source": [
    "#to look at the duplicated rows \n",
    "df.loc[df.duplicated(),:]"
   ]
  },
  {
   "cell_type": "code",
   "execution_count": 57,
   "metadata": {},
   "outputs": [],
   "source": [
    "#drop all the duplicates\n",
    "df = df.drop_duplicates()"
   ]
  },
  {
   "cell_type": "code",
   "execution_count": 58,
   "metadata": {},
   "outputs": [
    {
     "data": {
      "text/plain": [
       "0"
      ]
     },
     "execution_count": 58,
     "metadata": {},
     "output_type": "execute_result"
    }
   ],
   "source": [
    "df.duplicated().sum()"
   ]
  },
  {
   "cell_type": "code",
   "execution_count": 59,
   "metadata": {},
   "outputs": [],
   "source": [
    "df = df[df['ContractType'].notna()]"
   ]
  },
  {
   "cell_type": "code",
   "execution_count": 60,
   "metadata": {},
   "outputs": [],
   "source": [
    "df = df[df['Rate'].notna()]"
   ]
  },
  {
   "cell_type": "code",
   "execution_count": 61,
   "metadata": {},
   "outputs": [],
   "source": [
    "df = df[df['ServiceState'].notna()]"
   ]
  },
  {
   "cell_type": "code",
   "execution_count": 62,
   "metadata": {
    "scrolled": true
   },
   "outputs": [
    {
     "name": "stdout",
     "output_type": "stream",
     "text": [
      "UtilityAccountNumber        0\n",
      "AccountNumber               0\n",
      "PromoCode               96258\n",
      "AttritionByMonth         4498\n",
      "EffectiveDate             165\n",
      "TerminationDate         55857\n",
      "PremiseStatus               0\n",
      "PremiseType                 0\n",
      "ServiceState                0\n",
      "ContractType                0\n",
      "GreenType                   0\n",
      "IsAutoPay                   0\n",
      "Commodity                   0\n",
      "ProductType                 0\n",
      "ProductTerm                 0\n",
      "mastercompany               0\n",
      "IsEBill                     0\n",
      "Rate                        0\n",
      "AttritionType           60320\n",
      "SoldDate                    0\n",
      "activebymonth               0\n",
      "Churn                       0\n",
      "dtype: int64\n"
     ]
    }
   ],
   "source": [
    "#To find if your data set has null \n",
    "print(df.isnull().sum())"
   ]
  },
  {
   "cell_type": "code",
   "execution_count": 63,
   "metadata": {},
   "outputs": [],
   "source": [
    "\n",
    "#Removed the dup column \n",
    "df = df.drop(['AttritionType','PromoCode'],axis=1)"
   ]
  },
  {
   "cell_type": "code",
   "execution_count": 64,
   "metadata": {},
   "outputs": [],
   "source": [
    "df = df[df['EffectiveDate'].notna()]"
   ]
  },
  {
   "cell_type": "code",
   "execution_count": 65,
   "metadata": {},
   "outputs": [
    {
     "name": "stdout",
     "output_type": "stream",
     "text": [
      "UtilityAccountNumber        0\n",
      "AccountNumber               0\n",
      "AttritionByMonth         4333\n",
      "EffectiveDate               0\n",
      "TerminationDate         55692\n",
      "PremiseStatus               0\n",
      "PremiseType                 0\n",
      "ServiceState                0\n",
      "ContractType                0\n",
      "GreenType                   0\n",
      "IsAutoPay                   0\n",
      "Commodity                   0\n",
      "ProductType                 0\n",
      "ProductTerm                 0\n",
      "mastercompany               0\n",
      "IsEBill                     0\n",
      "Rate                        0\n",
      "SoldDate                    0\n",
      "activebymonth               0\n",
      "Churn                       0\n",
      "dtype: int64\n"
     ]
    }
   ],
   "source": [
    "#To find if your data set has null \n",
    "print(df.isnull().sum())"
   ]
  },
  {
   "cell_type": "code",
   "execution_count": 66,
   "metadata": {},
   "outputs": [
    {
     "data": {
      "text/plain": [
       "0         63.0\n",
       "1          0.0\n",
       "2          0.0\n",
       "3          0.0\n",
       "4         85.0\n",
       "          ... \n",
       "107509     0.0\n",
       "107510     0.0\n",
       "107511    20.0\n",
       "107512     0.0\n",
       "107513     0.0\n",
       "Name: AttritionByMonth, Length: 99887, dtype: float64"
      ]
     },
     "execution_count": 66,
     "metadata": {},
     "output_type": "execute_result"
    }
   ],
   "source": [
    " df['AttritionByMonth'].fillna(0)\n"
   ]
  },
  {
   "cell_type": "code",
   "execution_count": 67,
   "metadata": {},
   "outputs": [],
   "source": [
    "df['AttritionByMonth'] = df['AttritionByMonth'].fillna(0)"
   ]
  },
  {
   "cell_type": "code",
   "execution_count": 74,
   "metadata": {},
   "outputs": [
    {
     "name": "stdout",
     "output_type": "stream",
     "text": [
      "<class 'pandas.core.frame.DataFrame'>\n",
      "Int64Index: 99887 entries, 0 to 107513\n",
      "Data columns (total 20 columns):\n",
      " #   Column                Non-Null Count  Dtype         \n",
      "---  ------                --------------  -----         \n",
      " 0   UtilityAccountNumber  99887 non-null  object        \n",
      " 1   AccountNumber         99887 non-null  object        \n",
      " 2   AttritionByMonth      99887 non-null  float64       \n",
      " 3   EffectiveDate         99887 non-null  datetime64[ns]\n",
      " 4   TerminationDate       44195 non-null  datetime64[ns]\n",
      " 5   PremiseStatus         99887 non-null  object        \n",
      " 6   PremiseType           99887 non-null  object        \n",
      " 7   ServiceState          99887 non-null  object        \n",
      " 8   ContractType          99887 non-null  object        \n",
      " 9   GreenType             99887 non-null  int64         \n",
      " 10  IsAutoPay             99887 non-null  int64         \n",
      " 11  Commodity             99887 non-null  object        \n",
      " 12  ProductType           99887 non-null  object        \n",
      " 13  ProductTerm           99887 non-null  float64       \n",
      " 14  mastercompany         99887 non-null  object        \n",
      " 15  IsEBill               99887 non-null  int64         \n",
      " 16  Rate                  99887 non-null  float64       \n",
      " 17  SoldDate              99887 non-null  datetime64[ns]\n",
      " 18  activebymonth         99887 non-null  int64         \n",
      " 19  Churn                 99887 non-null  int64         \n",
      "dtypes: datetime64[ns](3), float64(3), int64(5), object(9)\n",
      "memory usage: 16.0+ MB\n"
     ]
    }
   ],
   "source": [
    "df.info()"
   ]
  },
  {
   "cell_type": "code",
   "execution_count": 69,
   "metadata": {},
   "outputs": [
    {
     "data": {
      "text/html": [
       "<div>\n",
       "<style scoped>\n",
       "    .dataframe tbody tr th:only-of-type {\n",
       "        vertical-align: middle;\n",
       "    }\n",
       "\n",
       "    .dataframe tbody tr th {\n",
       "        vertical-align: top;\n",
       "    }\n",
       "\n",
       "    .dataframe thead th {\n",
       "        text-align: right;\n",
       "    }\n",
       "</style>\n",
       "<table border=\"1\" class=\"dataframe\">\n",
       "  <thead>\n",
       "    <tr style=\"text-align: right;\">\n",
       "      <th></th>\n",
       "      <th>UtilityAccountNumber</th>\n",
       "      <th>AccountNumber</th>\n",
       "      <th>AttritionByMonth</th>\n",
       "      <th>EffectiveDate</th>\n",
       "      <th>TerminationDate</th>\n",
       "      <th>PremiseStatus</th>\n",
       "      <th>PremiseType</th>\n",
       "      <th>ServiceState</th>\n",
       "      <th>ContractType</th>\n",
       "      <th>GreenType</th>\n",
       "      <th>IsAutoPay</th>\n",
       "      <th>Commodity</th>\n",
       "      <th>ProductType</th>\n",
       "      <th>ProductTerm</th>\n",
       "      <th>mastercompany</th>\n",
       "      <th>IsEBill</th>\n",
       "      <th>Rate</th>\n",
       "      <th>SoldDate</th>\n",
       "      <th>activebymonth</th>\n",
       "      <th>Churn</th>\n",
       "    </tr>\n",
       "  </thead>\n",
       "  <tbody>\n",
       "    <tr>\n",
       "      <th>0</th>\n",
       "      <td>035013237595</td>\n",
       "      <td>002752814</td>\n",
       "      <td>63.0</td>\n",
       "      <td>2015-01-08</td>\n",
       "      <td>2020-04-06</td>\n",
       "      <td>INACTIVE</td>\n",
       "      <td>RESIDENTIAL</td>\n",
       "      <td>ME</td>\n",
       "      <td>RENEWAL</td>\n",
       "      <td>0</td>\n",
       "      <td>0</td>\n",
       "      <td>ELECTRIC</td>\n",
       "      <td>Fixed</td>\n",
       "      <td>12.0</td>\n",
       "      <td>PROVIDER</td>\n",
       "      <td>0</td>\n",
       "      <td>0.0899</td>\n",
       "      <td>2014-12-08</td>\n",
       "      <td>64</td>\n",
       "      <td>1</td>\n",
       "    </tr>\n",
       "    <tr>\n",
       "      <th>1</th>\n",
       "      <td>2102956001</td>\n",
       "      <td>002789231</td>\n",
       "      <td>0.0</td>\n",
       "      <td>2015-03-20</td>\n",
       "      <td>NaT</td>\n",
       "      <td>ACTIVE</td>\n",
       "      <td>RESIDENTIAL</td>\n",
       "      <td>NH</td>\n",
       "      <td>RENEWAL</td>\n",
       "      <td>0</td>\n",
       "      <td>0</td>\n",
       "      <td>ELECTRIC</td>\n",
       "      <td>Fixed</td>\n",
       "      <td>12.0</td>\n",
       "      <td>PROVIDER</td>\n",
       "      <td>0</td>\n",
       "      <td>0.1307</td>\n",
       "      <td>2015-03-09</td>\n",
       "      <td>71</td>\n",
       "      <td>0</td>\n",
       "    </tr>\n",
       "    <tr>\n",
       "      <th>2</th>\n",
       "      <td>10042539</td>\n",
       "      <td>002750405</td>\n",
       "      <td>0.0</td>\n",
       "      <td>2012-07-11</td>\n",
       "      <td>NaT</td>\n",
       "      <td>ACTIVE</td>\n",
       "      <td>RESIDENTIAL</td>\n",
       "      <td>ME</td>\n",
       "      <td>RENEWAL</td>\n",
       "      <td>0</td>\n",
       "      <td>0</td>\n",
       "      <td>ELECTRIC</td>\n",
       "      <td>Fixed</td>\n",
       "      <td>1.0</td>\n",
       "      <td>PROVIDER</td>\n",
       "      <td>0</td>\n",
       "      <td>0.1299</td>\n",
       "      <td>2013-09-27</td>\n",
       "      <td>113</td>\n",
       "      <td>0</td>\n",
       "    </tr>\n",
       "    <tr>\n",
       "      <th>3</th>\n",
       "      <td>035014215061</td>\n",
       "      <td>002756528</td>\n",
       "      <td>0.0</td>\n",
       "      <td>2012-04-07</td>\n",
       "      <td>NaT</td>\n",
       "      <td>ACTIVE</td>\n",
       "      <td>RESIDENTIAL</td>\n",
       "      <td>ME</td>\n",
       "      <td>RENEWAL</td>\n",
       "      <td>0</td>\n",
       "      <td>0</td>\n",
       "      <td>ELECTRIC</td>\n",
       "      <td>Fixed</td>\n",
       "      <td>1.0</td>\n",
       "      <td>PROVIDER</td>\n",
       "      <td>0</td>\n",
       "      <td>0.1030</td>\n",
       "      <td>2013-09-27</td>\n",
       "      <td>111</td>\n",
       "      <td>0</td>\n",
       "    </tr>\n",
       "    <tr>\n",
       "      <th>4</th>\n",
       "      <td>035016437226</td>\n",
       "      <td>002774599</td>\n",
       "      <td>85.0</td>\n",
       "      <td>2012-07-07</td>\n",
       "      <td>2019-08-06</td>\n",
       "      <td>INACTIVE</td>\n",
       "      <td>RESIDENTIAL</td>\n",
       "      <td>ME</td>\n",
       "      <td>RENEWAL</td>\n",
       "      <td>0</td>\n",
       "      <td>0</td>\n",
       "      <td>ELECTRIC</td>\n",
       "      <td>Fixed</td>\n",
       "      <td>1.0</td>\n",
       "      <td>PROVIDER</td>\n",
       "      <td>0</td>\n",
       "      <td>0.1325</td>\n",
       "      <td>2013-09-27</td>\n",
       "      <td>86</td>\n",
       "      <td>1</td>\n",
       "    </tr>\n",
       "  </tbody>\n",
       "</table>\n",
       "</div>"
      ],
      "text/plain": [
       "  UtilityAccountNumber AccountNumber  AttritionByMonth EffectiveDate  \\\n",
       "0         035013237595     002752814              63.0    2015-01-08   \n",
       "1           2102956001     002789231               0.0    2015-03-20   \n",
       "2             10042539     002750405               0.0    2012-07-11   \n",
       "3         035014215061     002756528               0.0    2012-04-07   \n",
       "4         035016437226     002774599              85.0    2012-07-07   \n",
       "\n",
       "  TerminationDate PremiseStatus  PremiseType ServiceState ContractType  \\\n",
       "0      2020-04-06      INACTIVE  RESIDENTIAL           ME      RENEWAL   \n",
       "1             NaT        ACTIVE  RESIDENTIAL           NH      RENEWAL   \n",
       "2             NaT        ACTIVE  RESIDENTIAL           ME      RENEWAL   \n",
       "3             NaT        ACTIVE  RESIDENTIAL           ME      RENEWAL   \n",
       "4      2019-08-06      INACTIVE  RESIDENTIAL           ME      RENEWAL   \n",
       "\n",
       "   GreenType  IsAutoPay Commodity ProductType  ProductTerm mastercompany  \\\n",
       "0          0          0  ELECTRIC       Fixed         12.0      PROVIDER   \n",
       "1          0          0  ELECTRIC       Fixed         12.0      PROVIDER   \n",
       "2          0          0  ELECTRIC       Fixed          1.0      PROVIDER   \n",
       "3          0          0  ELECTRIC       Fixed          1.0      PROVIDER   \n",
       "4          0          0  ELECTRIC       Fixed          1.0      PROVIDER   \n",
       "\n",
       "   IsEBill    Rate   SoldDate  activebymonth  Churn  \n",
       "0        0  0.0899 2014-12-08             64      1  \n",
       "1        0  0.1307 2015-03-09             71      0  \n",
       "2        0  0.1299 2013-09-27            113      0  \n",
       "3        0  0.1030 2013-09-27            111      0  \n",
       "4        0  0.1325 2013-09-27             86      1  "
      ]
     },
     "execution_count": 69,
     "metadata": {},
     "output_type": "execute_result"
    }
   ],
   "source": [
    "df.head()"
   ]
  },
  {
   "cell_type": "code",
   "execution_count": 84,
   "metadata": {},
   "outputs": [
    {
     "data": {
      "text/plain": [
       "0         2752814.0\n",
       "1         2789231.0\n",
       "2         2750405.0\n",
       "3         2756528.0\n",
       "4         2774599.0\n",
       "            ...    \n",
       "107509    4307511.0\n",
       "107510    4306815.0\n",
       "107511    4163901.0\n",
       "107512    4306118.0\n",
       "107513    4305653.0\n",
       "Name: AccountNumber, Length: 99887, dtype: float64"
      ]
     },
     "execution_count": 84,
     "metadata": {},
     "output_type": "execute_result"
    }
   ],
   "source": [
    "#pd.to_numeric(df['UtilityAccountNumber'], errors='coerce',downcast='signed')\n",
    "\n",
    "#pd.to_numeric(df['AccountNumber'], errors='coerce',downcast='integer')"
   ]
  },
  {
   "cell_type": "code",
   "execution_count": 85,
   "metadata": {},
   "outputs": [
    {
     "name": "stdout",
     "output_type": "stream",
     "text": [
      "<class 'pandas.core.frame.DataFrame'>\n",
      "Int64Index: 99887 entries, 0 to 107513\n",
      "Data columns (total 20 columns):\n",
      " #   Column                Non-Null Count  Dtype         \n",
      "---  ------                --------------  -----         \n",
      " 0   UtilityAccountNumber  99887 non-null  object        \n",
      " 1   AccountNumber         99887 non-null  object        \n",
      " 2   AttritionByMonth      99887 non-null  float64       \n",
      " 3   EffectiveDate         99887 non-null  datetime64[ns]\n",
      " 4   TerminationDate       44195 non-null  datetime64[ns]\n",
      " 5   PremiseStatus         99887 non-null  object        \n",
      " 6   PremiseType           99887 non-null  object        \n",
      " 7   ServiceState          99887 non-null  object        \n",
      " 8   ContractType          99887 non-null  object        \n",
      " 9   GreenType             99887 non-null  int64         \n",
      " 10  IsAutoPay             99887 non-null  int64         \n",
      " 11  Commodity             99887 non-null  object        \n",
      " 12  ProductType           99887 non-null  object        \n",
      " 13  ProductTerm           99887 non-null  float64       \n",
      " 14  mastercompany         99887 non-null  object        \n",
      " 15  IsEBill               99887 non-null  int64         \n",
      " 16  Rate                  99887 non-null  float64       \n",
      " 17  SoldDate              99887 non-null  datetime64[ns]\n",
      " 18  activebymonth         99887 non-null  int64         \n",
      " 19  Churn                 99887 non-null  int64         \n",
      "dtypes: datetime64[ns](3), float64(3), int64(5), object(9)\n",
      "memory usage: 16.0+ MB\n"
     ]
    }
   ],
   "source": [
    "df.info()"
   ]
  },
  {
   "cell_type": "code",
   "execution_count": null,
   "metadata": {},
   "outputs": [],
   "source": []
  }
 ],
 "metadata": {
  "kernelspec": {
   "display_name": "Python 3",
   "language": "python",
   "name": "python3"
  },
  "language_info": {
   "codemirror_mode": {
    "name": "ipython",
    "version": 3
   },
   "file_extension": ".py",
   "mimetype": "text/x-python",
   "name": "python",
   "nbconvert_exporter": "python",
   "pygments_lexer": "ipython3",
   "version": "3.8.2"
  }
 },
 "nbformat": 4,
 "nbformat_minor": 4
}
