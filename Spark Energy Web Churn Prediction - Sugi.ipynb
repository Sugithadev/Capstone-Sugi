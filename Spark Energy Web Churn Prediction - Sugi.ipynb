{
 "cells": [
  {
   "cell_type": "code",
   "execution_count": 1,
   "metadata": {},
   "outputs": [],
   "source": [
    "import pandas as pd \n",
    "import numpy as np\n",
    "import matplotlib.pyplot as plt\n",
    "import seaborn as sns \n",
    "import pymysql\n",
    "import csv\n",
    "import pandas_profiling\n",
    "import emoji\n",
    "import pydotplus\n",
    "import pydot\n",
    "import scipy\n",
    "import warnings\n",
    "import matplotlib.pyplot\n",
    "warnings.filterwarnings('ignore') \n",
    "\n",
    "from IPython.display import Image\n",
    "from sqlalchemy import create_engine\n",
    "from math import sqrt \n",
    "\n",
    "#SK Learn \n",
    "from sklearn.metrics import accuracy_score, classification_report,mean_squared_error,r2_score,mean_absolute_error\n",
    "from sklearn.linear_model import LogisticRegression \n",
    "from sklearn.linear_model import LinearRegression \n",
    "from sklearn.neighbors import KNeighborsClassifier #KNN\n",
    "from sklearn.ensemble import RandomForestClassifier,GradientBoostingClassifier\n",
    "from sklearn.ensemble import RandomForestRegressor\n",
    "from sklearn.svm import SVR\n",
    "from sklearn.tree import DecisionTreeClassifier\n",
    "from sklearn.model_selection import train_test_split\n",
    "from sklearn.model_selection import cross_val_score\n",
    "from sklearn import linear_model\n",
    "from sklearn.datasets import load_digits\n",
    "from sklearn.tree import plot_tree\n",
    "from sklearn.tree import export_text\n",
    "from sklearn import metrics\n",
    "from sklearn import preprocessing\n",
    "from sklearn import svm\n",
    "from sklearn.naive_bayes import GaussianNB\n",
    "from sklearn import model_selection\n",
    "from sklearn.metrics import confusion_matrix,precision_score,recall_score,accuracy_score,precision_recall_curve\n",
    "from sklearn import tree\n",
    "from sklearn.preprocessing import RobustScaler\n",
    "%matplotlib inline"
   ]
  },
  {
   "cell_type": "code",
   "execution_count": 7,
   "metadata": {},
   "outputs": [],
   "source": [
    "#df = pd.ExcelFile('Churn prediction data for web.xlsx')  \n",
    "df = pd.read_excel('Churn prediction data for web.xlsx', engine='openpyxl')"
   ]
  },
  {
   "cell_type": "code",
   "execution_count": 8,
   "metadata": {},
   "outputs": [
    {
     "name": "stdout",
     "output_type": "stream",
     "text": [
      "<class 'pandas.core.frame.DataFrame'>\n",
      "RangeIndex: 107490 entries, 0 to 107489\n",
      "Data columns (total 22 columns):\n",
      " #   Column                Non-Null Count   Dtype         \n",
      "---  ------                --------------   -----         \n",
      " 0   UtilityAccountNumber  107490 non-null  object        \n",
      " 1   AccountNumber         107490 non-null  object        \n",
      " 2   PromoCode             4658 non-null    object        \n",
      " 3   AttritionByMonth      97765 non-null   float64       \n",
      " 4   EffectiveDate         103205 non-null  datetime64[ns]\n",
      " 5   TerminationDate       47479 non-null   datetime64[ns]\n",
      " 6   PremiseStatus         107490 non-null  object        \n",
      " 7   PremiseType           107490 non-null  object        \n",
      " 8   ServiceState          107487 non-null  object        \n",
      " 9   ContractType          105716 non-null  object        \n",
      " 10  GreenType             107490 non-null  int64         \n",
      " 11  IsAutoPay             107490 non-null  int64         \n",
      " 12  Commodity             107490 non-null  object        \n",
      " 13  ProductType           105291 non-null  object        \n",
      " 14  ProductTerm           105291 non-null  float64       \n",
      " 15  mastercompany         107490 non-null  object        \n",
      " 16  IsEBill               107490 non-null  int64         \n",
      " 17  Rate                  101298 non-null  float64       \n",
      " 18  AttritionType         41603 non-null   object        \n",
      " 19  SoldDate              107478 non-null  datetime64[ns]\n",
      " 20  activebymonth         107490 non-null  int64         \n",
      " 21  Churn                 107490 non-null  int64         \n",
      "dtypes: datetime64[ns](3), float64(3), int64(5), object(11)\n",
      "memory usage: 18.0+ MB\n"
     ]
    }
   ],
   "source": [
    "df.info()"
   ]
  },
  {
   "cell_type": "code",
   "execution_count": null,
   "metadata": {},
   "outputs": [],
   "source": []
  }
 ],
 "metadata": {
  "kernelspec": {
   "display_name": "Python 3",
   "language": "python",
   "name": "python3"
  },
  "language_info": {
   "codemirror_mode": {
    "name": "ipython",
    "version": 3
   },
   "file_extension": ".py",
   "mimetype": "text/x-python",
   "name": "python",
   "nbconvert_exporter": "python",
   "pygments_lexer": "ipython3",
   "version": "3.8.2"
  }
 },
 "nbformat": 4,
 "nbformat_minor": 4
}
